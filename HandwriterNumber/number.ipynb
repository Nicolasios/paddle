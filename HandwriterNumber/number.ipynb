{
 "cells": [
  {
   "cell_type": "code",
   "execution_count": 1,
   "metadata": {},
   "outputs": [],
   "source": [
    "import paddle\n",
    "import numpy as np\n",
    "from paddle.vision.transforms import Normalize\n",
    "\n",
    "transform = Normalize(mean=[127.5], std=[127.5], data_format='CHW')\n",
    "# 下载数据集并初始化 DataSet\n",
    "train_dataset = paddle.vision.datasets.MNIST(mode='train', transform=transform)\n",
    "test_dataset = paddle.vision.datasets.MNIST(mode='test', transform=transform)\n"
   ]
  },
  {
   "cell_type": "code",
   "execution_count": 2,
   "metadata": {},
   "outputs": [],
   "source": [
    "# 模型组网并初始化网络\n",
    "\n",
    "#初始化一个最后一个全连接层维度为10的卷积神经网络\n",
    "lenet = paddle.vision.models.LeNet(num_classes=10)\n",
    "model = paddle.Model(lenet)"
   ]
  },
  {
   "cell_type": "code",
   "execution_count": 3,
   "metadata": {},
   "outputs": [],
   "source": [
    "# 模型训练的配置准备，准备损失函数，优化器和评价指标\n",
    "model.prepare(paddle.optimizer.Adam(parameters=model.parameters()), \n",
    "              paddle.nn.CrossEntropyLoss(),\n",
    "              paddle.metric.Accuracy())"
   ]
  },
  {
   "cell_type": "code",
   "execution_count": 5,
   "metadata": {},
   "outputs": [
    {
     "name": "stdout",
     "output_type": "stream",
     "text": [
      "The loss value printed in the log is the current step, and the metric is the average value of previous steps.\n",
      "Epoch 1/5\n",
      "step 938/938 [==============================] - loss: 0.0329 - acc: 0.9395 - 26ms/step          \n",
      "Epoch 2/5\n",
      "step 938/938 [==============================] - loss: 0.0173 - acc: 0.9775 - 26ms/step          \n",
      "Epoch 3/5\n",
      "step 938/938 [==============================] - loss: 0.0945 - acc: 0.9816 - 26ms/step          \n",
      "Epoch 4/5\n",
      "step 938/938 [==============================] - loss: 0.0057 - acc: 0.9851 - 25ms/step          \n",
      "Epoch 5/5\n",
      "step 938/938 [==============================] - loss: 0.0048 - acc: 0.9868 - 27ms/step          \n"
     ]
    }
   ],
   "source": [
    "# 模型训练\n",
    "model.fit(train_dataset, epochs=5, batch_size=64, verbose=1)"
   ]
  },
  {
   "cell_type": "code",
   "execution_count": 6,
   "metadata": {},
   "outputs": [
    {
     "name": "stdout",
     "output_type": "stream",
     "text": [
      "Eval begin...\n",
      "step 157/157 [==============================] - loss: 0.0018 - acc: 0.9826 - 12ms/step            \n",
      "Eval samples: 10000\n"
     ]
    },
    {
     "data": {
      "text/plain": [
       "{'loss': [0.0017545733], 'acc': 0.9826}"
      ]
     },
     "execution_count": 6,
     "metadata": {},
     "output_type": "execute_result"
    }
   ],
   "source": [
    "# 模型评估\n",
    "model.evaluate(test_dataset, batch_size=64, verbose=1)"
   ]
  },
  {
   "cell_type": "code",
   "execution_count": 7,
   "metadata": {},
   "outputs": [],
   "source": [
    "\n",
    "# 保存模型\n",
    "model.save('./output/mnist')"
   ]
  },
  {
   "cell_type": "code",
   "execution_count": 6,
   "metadata": {},
   "outputs": [],
   "source": [
    "# 加载模型\n",
    "model.load('output/mnist')"
   ]
  },
  {
   "cell_type": "code",
   "execution_count": 10,
   "metadata": {},
   "outputs": [
    {
     "name": "stdout",
     "output_type": "stream",
     "text": [
      "true label: 4, pred label: 4\n"
     ]
    },
    {
     "data": {
      "text/plain": [
       "<matplotlib.image.AxesImage at 0x7f4214513e80>"
      ]
     },
     "execution_count": 10,
     "metadata": {},
     "output_type": "execute_result"
    },
    {
     "data": {
      "image/png": "[encoded data removed]",
      "text/plain": [
       "<Figure size 640x480 with 1 Axes>"
      ]
     },
     "metadata": {},
     "output_type": "display_data"
    },
    {
     "name": "stderr",
     "output_type": "stream",
     "text": [
      "W1102 13:31:19.050410   542 sampler.cpp:139] bvar is busy at sampling for 2 seconds!\n",
      "W1102 13:31:26.480041   542 sampler.cpp:139] bvar is busy at sampling for 2 seconds!\n",
      "W1102 13:31:32.487461   542 sampler.cpp:139] bvar is busy at sampling for 2 seconds!\n",
      "W1102 13:31:54.475307   542 sampler.cpp:139] bvar is busy at sampling for 2 seconds!\n",
      "W1102 13:32:05.149533   542 sampler.cpp:139] bvar is busy at sampling for 2 seconds!\n",
      "W1102 13:32:17.442417   542 sampler.cpp:139] bvar is busy at sampling for 2 seconds!\n",
      "W1102 13:32:45.630517   542 sampler.cpp:139] bvar is busy at sampling for 2 seconds!\n"
     ]
    }
   ],
   "source": [
    "# 从测试集中取出一张图片\n",
    "img, label = test_dataset[33]\n",
    "# 将图片shape从1*28*28变为1*1*28*28，增加一个batch维度，以匹配模型输入格式要求\n",
    "img_batch = np.expand_dims(img.astype('float32'), axis=0)\n",
    "\n",
    "# 执行推理并打印结果，此处predict_batch返回的是一个list，取出其中数据获得预测结果\n",
    "out = model.predict_batch(img_batch)[0]\n",
    "pred_label = out.argmax()\n",
    "print('true label: {}, pred label: {}'.format(label[0], pred_label))\n",
    "# 可视化图片\n",
    "from matplotlib import pyplot as plt\n",
    "plt.imshow(img[0])"
   ]
  }
 ],
 "metadata": {
  "kernelspec": {
   "display_name": "Python 3.9.12 64-bit ('paddle')",
   "language": "python",
   "name": "python3"
  },
  "language_info": {
   "codemirror_mode": {
    "name": "ipython",
    "version": 3
   },
   "file_extension": ".py",
   "mimetype": "text/x-python",
   "name": "python",
   "nbconvert_exporter": "python",
   "pygments_lexer": "ipython3",
   "version": "3.9.13"
  },
  "orig_nbformat": 4,
  "vscode": {
   "interpreter": {
    "hash": "38ad4a1e341727da3f425a88a1ec77b4d187139cc22970f6a8477b92bb5af4e8"
   }
  }
 },
 "nbformat": 4,
 "nbformat_minor": 2
}
