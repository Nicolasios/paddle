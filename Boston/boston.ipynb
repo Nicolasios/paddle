{
 "cells": [
  {
   "cell_type": "code",
   "execution_count": null,
   "metadata": {},
   "outputs": [],
   "source": [
    "import paddle\n",
    "import numpy as np\n",
    "import os\n",
    "import matplotlib\n",
    "import matplotlib.pyplot as plt\n",
    "import pandas as pd\n",
    "import seaborn as sns\n",
    "import warnings\n",
    "warnings.filterwarnings(\"ignore\")\n",
    "\n",
    "print(paddle.__version__)\n"
   ]
  },
  {
   "cell_type": "code",
   "execution_count": null,
   "metadata": {},
   "outputs": [],
   "source": [
    "# 从文件导入数据\n",
    "datafile = './housing.data'\n",
    "housing_data = np.fromfile(datafile, sep=' ')\n",
    "feature_names = ['CRIM', 'ZN', 'INDUS', 'CHAS', 'NOX', 'RM', 'AGE','DIS', 'RAD', 'TAX', 'PTRATIO', 'B', 'LSTAT', 'MEDV']\n",
    "feature_num = len(feature_names)\n",
    "# 将原始数据进行Reshape，变成[N, 14]这样的形状\n",
    "housing_data = housing_data.reshape([housing_data.shape[0] // feature_num, feature_num])"
   ]
  },
  {
   "cell_type": "code",
   "execution_count": null,
   "metadata": {},
   "outputs": [],
   "source": [
    "# 画图看特征间的关系,主要是变量两两之间的关系（线性或非线性，有无明显较为相关关系）\n",
    "features_np = np.array([x[:13] for x in housing_data], np.float32)\n",
    "labels_np = np.array([x[-1] for x in housing_data], np.float32)\n",
    "# data_np = np.c_[features_np, labels_np]\n",
    "df = pd.DataFrame(housing_data, columns=feature_names)\n",
    "matplotlib.use('TkAgg')\n",
    "%matplotlib inline\n",
    "sns.pairplot(df.dropna(), y_vars=feature_names[-1], x_vars=feature_names[::-1], diag_kind='kde')\n",
    "plt.show()\n"
   ]
  },
  {
   "cell_type": "code",
   "execution_count": null,
   "metadata": {},
   "outputs": [],
   "source": [
    "# 相关性分析\n",
    "fig, ax = plt.subplots(figsize=(15, 1)) \n",
    "corr_data = df.corr().iloc[-1]\n",
    "corr_data = np.asarray(corr_data).reshape(1, 14)\n",
    "ax = sns.heatmap(corr_data, cbar=True, annot=True)\n",
    "plt.show()\n"
   ]
  },
  {
   "cell_type": "code",
   "execution_count": null,
   "metadata": {},
   "outputs": [],
   "source": [
    "# 数据归一化处理\n",
    "sns.boxplot(data=df.iloc[:, 0:13])\n"
   ]
  },
  {
   "cell_type": "code",
   "execution_count": null,
   "metadata": {},
   "outputs": [],
   "source": [
    "features_max = housing_data.max(axis=0)\n",
    "features_min = housing_data.min(axis=0)\n",
    "features_avg = housing_data.sum(axis=0) / housing_data.shape[0]\n",
    "BATCH_SIZE = 20\n",
    "def feature_norm(input):\n",
    "    f_size = input.shape\n",
    "    output_features = np.zeros(f_size, np.float32)\n",
    "    for batch_id in range(f_size[0]):\n",
    "        for index in range(13):\n",
    "            output_features[batch_id][index] = (input[batch_id][index] - features_avg[index]) / (features_max[index] - features_min[index])\n",
    "    return output_features \n",
    "# 只对属性进行归一化\n",
    "housing_features = feature_norm(housing_data[:, :13])\n",
    "# print(feature_trian.shape)\n",
    "housing_data = np.c_[housing_features, housing_data[:, -1]].astype(np.float32)\n",
    "# print(training_data[0])\n",
    "# 归一化后的train_data, 看下各属性的情况\n",
    "features_np = np.array([x[:13] for x in housing_data],np.float32)\n",
    "labels_np = np.array([x[-1] for x in housing_data],np.float32)\n",
    "data_np = np.c_[features_np, labels_np]\n",
    "df = pd.DataFrame(data_np, columns=feature_names)\n",
    "sns.boxplot(data=df.iloc[:, 0:13])\n"
   ]
  },
  {
   "cell_type": "code",
   "execution_count": null,
   "metadata": {},
   "outputs": [],
   "source": [
    "# 将训练数据集和测试数据集按照8:2的比例分开\n",
    "ratio = 0.8\n",
    "offset = int(housing_data.shape[0] * ratio)\n",
    "train_data = housing_data[:offset]\n",
    "test_data = housing_data[offset:]\n"
   ]
  },
  {
   "cell_type": "code",
   "execution_count": null,
   "metadata": {},
   "outputs": [],
   "source": [
    "class Regressor(paddle.nn.Layer):\n",
    "    def __init__(self):\n",
    "        super(Regressor, self).__init__()\n",
    "        self.fc = paddle.nn.Linear(13, 1,)\n",
    "\n",
    "    def forward(self, inputs):\n",
    "        pred = self.fc(inputs)\n",
    "        return pred\n",
    "train_nums = []\n",
    "train_costs = []\n",
    "\n",
    "def draw_train_process(iters, train_costs):\n",
    "    plt.title(\"training cost\", fontsize=24)\n",
    "    plt.xlabel(\"iter\", fontsize=14)\n",
    "    plt.ylabel(\"cost\", fontsize=14)\n",
    "    plt.plot(iters, train_costs, color='red', label='training cost')\n",
    "    plt.show()\n"
   ]
  },
  {
   "cell_type": "code",
   "execution_count": 5,
   "metadata": {},
   "outputs": [
    {
     "name": "stdout",
     "output_type": "stream",
     "text": [
      "(404, 14)\n"
     ]
    }
   ],
   "source": [
    "import paddle\n",
    "paddle.set_default_dtype(\"float64\")\n",
    "\n",
    "# step1:用高层API定义数据集，无需进行数据处理等，高层API为你一条龙搞定\n",
    "train_dataset = paddle.text.datasets.UCIHousing(mode='train')\n",
    "eval_dataset = paddle.text.datasets.UCIHousing(mode='test')\n",
    "print(train_dataset.data.shape)"
   ]
  },
  {
   "cell_type": "code",
   "execution_count": 7,
   "metadata": {},
   "outputs": [
    {
     "name": "stdout",
     "output_type": "stream",
     "text": [
      "<class 'paddle.text.datasets.uci_housing.UCIHousing'>\n"
     ]
    }
   ],
   "source": [
    "# step2:定义模型\n",
    "class UCIHousing(paddle.nn.Layer):\n",
    "    def __init__(self):\n",
    "        super(UCIHousing, self).__init__()\n",
    "        self.fc = paddle.nn.Linear(13, 1, None)\n",
    "\n",
    "    def forward(self, input: paddle.Tensor):\n",
    "        print(type(input))\n",
    "        print(input)\n",
    "        pred = self.fc(input)\n",
    "        return pred\n",
    "\n",
    "# step3:训练模型\n",
    "model = paddle.Model(UCIHousing())\n",
    "model.prepare(paddle.optimizer.Adam(parameters=model.parameters()),\n",
    "              paddle.nn.MSELoss())              \n",
    "# model.fit(train_dataset, epochs=200, batch_size=1, verbose=0)\n"
   ]
  },
  {
   "cell_type": "code",
   "execution_count": null,
   "metadata": {},
   "outputs": [],
   "source": [
    "model.save(\"./model/house\")"
   ]
  },
  {
   "cell_type": "code",
   "execution_count": null,
   "metadata": {},
   "outputs": [],
   "source": [
    "# 获取预测数据\n",
    "INFER_BATCH_SIZE = 100\n",
    "\n",
    "infer_features_np = np.array([data[:13] for data in test_data]).astype(\"float32\")\n",
    "infer_labels_np = np.array([data[-1] for data in test_data]).astype(\"float32\")\n",
    "\n",
    "print(test_data[0])"
   ]
  },
  {
   "cell_type": "code",
   "execution_count": null,
   "metadata": {},
   "outputs": [],
   "source": [
    "import paddle\n",
    "from paddle.text.datasets import UCIHousing\n",
    "\n",
    "class SimpleNet(paddle.nn.Layer):\n",
    "    def __init__(self):\n",
    "        super(SimpleNet, self).__init__()\n",
    "\n",
    "    def forward(self, feature, target):\n",
    "        return paddle.sum(feature), target\n",
    "\n",
    "\n",
    "uci_housing = UCIHousing(mode='train')\n",
    "\n",
    "for i in range(10):\n",
    "    feature, target = uci_housing[i]\n",
    "    feature = paddle.to_tensor(feature)\n",
    "    target = paddle.to_tensor(target)\n",
    "\n",
    "    model = SimpleNet()\n",
    "    feature, target = model(feature, target)\n",
    "    print(feature.numpy().shape, target.numpy())\n"
   ]
  },
  {
   "cell_type": "code",
   "execution_count": null,
   "metadata": {},
   "outputs": [],
   "source": [
    "import paddle\n",
    "paddle.set_default_dtype(\"float64\")\n",
    "\n",
    "# step1:用高层API定义数据集，无需进行数据处理等，高层API为你一条龙搞定\n",
    "train_dataset = paddle.text.datasets.UCIHousing(mode='train')\n",
    "eval_dataset = paddle.text.datasets.UCIHousing(mode='test')\n",
    "\n",
    "for i in range(len(train_dataset)):\n",
    "    print(train_dataset.__getitem__(i))"
   ]
  },
  {
   "cell_type": "code",
   "execution_count": null,
   "metadata": {},
   "outputs": [],
   "source": [
    "# step2:定义模型\n",
    "class UCIHousing(paddle.nn.Layer):\n",
    "    def __init__(self):\n",
    "        super(UCIHousing, self).__init__()\n",
    "        self.fc = paddle.nn.Linear(13, 1, None)\n",
    "\n",
    "    def forward(self, input):\n",
    "        pred = self.fc(input)\n",
    "        return pred\n",
    "\n",
    "# step3:训练模型\n",
    "model = paddle.Model(UCIHousing())\n",
    "model.prepare(paddle.optimizer.Adam(parameters=model.parameters()),\n",
    "              paddle.nn.MSELoss())\n",
    "model.fit(train_dataset, eval_dataset, epochs=5, batch_size=8, verbose=1)"
   ]
  },
  {
   "cell_type": "code",
   "execution_count": null,
   "metadata": {},
   "outputs": [],
   "source": [
    "import paddle\n",
    "\n",
    "input_data = paddle.rand(shape=[5, 100])\n",
    "label_data = paddle.randint(0, 100, shape=[5,1], dtype=\"int64\")\n",
    "weight_data = paddle.rand([100])\n",
    "\n",
    "loss = paddle.nn.functional.cross_entropy(input=input_data, label=label_data, weight=weight_data)\n",
    "print(loss.shape)\n",
    "\n",
    "type(input_data)\n",
    "\n"
   ]
  },
  {
   "cell_type": "markdown",
   "metadata": {},
   "source": []
  }
 ],
 "metadata": {
  "kernelspec": {
   "display_name": "Python 3.9.12 64-bit ('paddle')",
   "language": "python",
   "name": "python3"
  },
  "language_info": {
   "codemirror_mode": {
    "name": "ipython",
    "version": 3
   },
   "file_extension": ".py",
   "mimetype": "text/x-python",
   "name": "python",
   "nbconvert_exporter": "python",
   "pygments_lexer": "ipython3",
   "version": "3.9.13"
  },
  "orig_nbformat": 4,
  "vscode": {
   "interpreter": {
    "hash": "38ad4a1e341727da3f425a88a1ec77b4d187139cc22970f6a8477b92bb5af4e8"
   }
  }
 },
 "nbformat": 4,
 "nbformat_minor": 2
}
