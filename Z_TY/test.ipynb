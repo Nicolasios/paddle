{
 "cells": [
  {
   "cell_type": "code",
   "execution_count": 1,
   "metadata": {},
   "outputs": [],
   "source": [
    "import pandas as pd\n",
    "\n",
    "\n",
    "data = pd.read_csv(filepath_or_buffer=\"./data.csv\").to_numpy()"
   ]
  },
  {
   "cell_type": "code",
   "execution_count": 2,
   "metadata": {},
   "outputs": [
    {
     "name": "stdout",
     "output_type": "stream",
     "text": [
      "2.3.0\n"
     ]
    }
   ],
   "source": [
    "\n",
    "import numpy as np\n",
    "from paddle.io import Dataset\n",
    "import paddle\n",
    "import warnings \n",
    "\n",
    "warnings.filterwarnings(\"ignore\")\n",
    "print(paddle.__version__)\n"
   ]
  },
  {
   "cell_type": "code",
   "execution_count": 3,
   "metadata": {},
   "outputs": [],
   "source": [
    "class LinearNet(paddle.nn.Layer):\n",
    "    def __init__(self):\n",
    "        super().__init__()\n",
    "        self.fc = paddle.nn.Linear(in_features=1,out_features=1)\n",
    "\n",
    "    def forward(self,input):\n",
    "        pred = self.fc(input)\n",
    "        return pred"
   ]
  },
  {
   "cell_type": "code",
   "execution_count": 4,
   "metadata": {},
   "outputs": [],
   "source": [
    "class LinearDataset(Dataset):\n",
    "    def __init__(self,data: np.ndarray) -> None:\n",
    "        super().__init__()\n",
    "        self.data = data\n",
    "    \n",
    "    def __getitem__(self, idx):\n",
    "        x = self.data[idx][0]\n",
    "        y = self.data[idx][1]\n",
    "        x = np.array([x],dtype=\"float32\")\n",
    "        y = np.array([y],dtype=\"float32\")\n",
    "        return x,y\n",
    "       \n",
    "\n",
    "    def __len__(self):\n",
    "        return self.data.shape[0]"
   ]
  },
  {
   "cell_type": "code",
   "execution_count": null,
   "metadata": {},
   "outputs": [],
   "source": []
  },
  {
   "cell_type": "code",
   "execution_count": 5,
   "metadata": {},
   "outputs": [],
   "source": [
    "train = LinearDataset(data=data)\n"
   ]
  },
  {
   "cell_type": "code",
   "execution_count": 6,
   "metadata": {},
   "outputs": [
    {
     "name": "stdout",
     "output_type": "stream",
     "text": [
      "The loss value printed in the log is the current step, and the metric is the average value of previous steps.\n",
      "Epoch 1/50\n",
      "step 100/100 [==============================] - loss: 44806.7188 - 3ms/step           \n",
      "Epoch 2/50\n",
      "step 100/100 [==============================] - loss: 29239.0684 - 2ms/step           \n",
      "Epoch 3/50\n",
      "step 100/100 [==============================] - loss: 31977.9766 - 2ms/step           \n",
      "Epoch 4/50\n",
      "step 100/100 [==============================] - loss: 10910.7832 - 2ms/step           \n",
      "Epoch 5/50\n",
      "step 100/100 [==============================] - loss: 36958.5312 - 2ms/step           \n",
      "Epoch 6/50\n",
      "step 100/100 [==============================] - loss: 160859.7500 - 3ms/step        \n",
      "Epoch 7/50\n",
      "step 100/100 [==============================] - loss: 1766.6392 - 2ms/step           \n",
      "Epoch 8/50\n",
      "step 100/100 [==============================] - loss: 31212.5625 - 2ms/step          \n",
      "Epoch 9/50\n",
      "step 100/100 [==============================] - loss: 59267.7617 - 2ms/step          \n",
      "Epoch 10/50\n",
      "step 100/100 [==============================] - loss: 103980.1094 - 2ms/step        \n",
      "Epoch 11/50\n",
      "step 100/100 [==============================] - loss: 1078.7828 - 2ms/step           \n",
      "Epoch 12/50\n",
      "step 100/100 [==============================] - loss: 6906.8970 - 2ms/step           \n",
      "Epoch 13/50\n",
      "step 100/100 [==============================] - loss: 54920.9844 - 2ms/step          \n",
      "Epoch 14/50\n",
      "step 100/100 [==============================] - loss: 60584.0664 - 2ms/step          \n",
      "Epoch 15/50\n",
      "step 100/100 [==============================] - loss: 63624.0117 - 2ms/step          \n",
      "Epoch 16/50\n",
      "step 100/100 [==============================] - loss: 38745.2031 - 2ms/step         \n",
      "Epoch 17/50\n",
      "step 100/100 [==============================] - loss: 11979.7812 - 2ms/step         \n",
      "Epoch 18/50\n",
      "step 100/100 [==============================] - loss: 1636.0841 - 2ms/step           \n",
      "Epoch 19/50\n",
      "step 100/100 [==============================] - loss: 10677.1543 - 2ms/step         \n",
      "Epoch 20/50\n",
      "step 100/100 [==============================] - loss: 45152.3906 - 2ms/step         \n",
      "Epoch 21/50\n",
      "step 100/100 [==============================] - loss: 47826.8125 - 2ms/step          \n",
      "Epoch 22/50\n",
      "step 100/100 [==============================] - loss: 23713.6035 - 2ms/step         \n",
      "Epoch 23/50\n",
      "step 100/100 [==============================] - loss: 51.7172 - 2ms/step            \n",
      "Epoch 24/50\n",
      "step 100/100 [==============================] - loss: 24225.6895 - 2ms/step         \n",
      "Epoch 25/50\n",
      "step 100/100 [==============================] - loss: 3640.4934 - 2ms/step         \n",
      "Epoch 26/50\n",
      "step 100/100 [==============================] - loss: 32.4392 - 2ms/step             \n",
      "Epoch 27/50\n",
      "step 100/100 [==============================] - loss: 7367.7036 - 2ms/step          \n",
      "Epoch 28/50\n",
      "step 100/100 [==============================] - loss: 790.2296 - 2ms/step           \n",
      "Epoch 29/50\n",
      "step 100/100 [==============================] - loss: 1.2013 - 2ms/step              \n",
      "Epoch 30/50\n",
      "step 100/100 [==============================] - loss: 12473.1572 - 3ms/step        \n",
      "Epoch 31/50\n",
      "step 100/100 [==============================] - loss: 1947.1995 - 2ms/step        \n",
      "Epoch 32/50\n",
      "step 100/100 [==============================] - loss: 9026.7744 - 2ms/step        \n",
      "Epoch 33/50\n",
      "step 100/100 [==============================] - loss: 8591.3965 - 3ms/step         \n",
      "Epoch 34/50\n",
      "step 100/100 [==============================] - loss: 367.7404 - 3ms/step          \n",
      "Epoch 35/50\n",
      "step 100/100 [==============================] - loss: 941.1861 - 3ms/step           \n",
      "Epoch 36/50\n",
      "step 100/100 [==============================] - loss: 4024.1074 - 3ms/step          \n",
      "Epoch 37/50\n",
      "step 100/100 [==============================] - loss: 15.6611 - 3ms/step          \n",
      "Epoch 38/50\n",
      "step 100/100 [==============================] - loss: 138.8758 - 3ms/step           \n",
      "Epoch 39/50\n",
      "step 100/100 [==============================] - loss: 469.0288 - 3ms/step           \n",
      "Epoch 40/50\n",
      "step 100/100 [==============================] - loss: 27.3554 - 3ms/step          \n",
      "Epoch 41/50\n",
      "step 100/100 [==============================] - loss: 1291.9668 - 3ms/step         \n",
      "Epoch 42/50\n",
      "step 100/100 [==============================] - loss: 1041.7511 - 3ms/step       \n",
      "Epoch 43/50\n",
      "step 100/100 [==============================] - loss: 498.9698 - 3ms/step           \n",
      "Epoch 44/50\n",
      "step 100/100 [==============================] - loss: 708.7850 - 3ms/step          \n",
      "Epoch 45/50\n",
      "step 100/100 [==============================] - loss: 31.9367 - 3ms/step           \n",
      "Epoch 46/50\n",
      "step 100/100 [==============================] - loss: 534.3423 - 3ms/step          \n",
      "Epoch 47/50\n",
      "step 100/100 [==============================] - loss: 237.8173 - 3ms/step         \n",
      "Epoch 48/50\n",
      "step 100/100 [==============================] - loss: 1.3568 - 3ms/step            \n",
      "Epoch 49/50\n",
      "step 100/100 [==============================] - loss: 0.3331 - 3ms/step            \n",
      "Epoch 50/50\n",
      "step 100/100 [==============================] - loss: 66.8192 - 3ms/step           \n"
     ]
    }
   ],
   "source": [
    "# step3:训练模型\n",
    "model = paddle.Model(LinearNet())\n",
    "model.prepare(paddle.optimizer.Adam(parameters=model.parameters()),\n",
    "              paddle.nn.MSELoss())\n",
    "model.fit(train_data=train, epochs=50, batch_size=1, verbose=1)"
   ]
  },
  {
   "cell_type": "code",
   "execution_count": 7,
   "metadata": {},
   "outputs": [],
   "source": [
    "model.save(\"./data\")"
   ]
  },
  {
   "cell_type": "code",
   "execution_count": 8,
   "metadata": {},
   "outputs": [
    {
     "name": "stdout",
     "output_type": "stream",
     "text": [
      "[[6.872793  ]\n",
      " [2.0017824 ]\n",
      " [0.7108223 ]\n",
      " [2.4258194 ]\n",
      " [6.1370525 ]\n",
      " [8.613617  ]\n",
      " [0.58299315]\n",
      " [3.653703  ]\n",
      " [4.4383855 ]\n",
      " [0.07261215]]\n"
     ]
    }
   ],
   "source": [
    "trial_data = np.random.random(size=(10,1)).astype(np.float32)*10\n",
    "print(trial_data)\n",
    "a = model.predict_batch([trial_data])"
   ]
  },
  {
   "cell_type": "code",
   "execution_count": 10,
   "metadata": {},
   "outputs": [
    {
     "data": {
      "image/png": "[encoded data removed]",
      "text/plain": [
       "<Figure size 640x480 with 1 Axes>"
      ]
     },
     "metadata": {},
     "output_type": "display_data"
    }
   ],
   "source": [
    "import matplotlib.pyplot as plt\n",
    "plt.title(\"training cost\", fontsize=24)\n",
    "plt.xlabel(\"iter\", fontsize=14)\n",
    "plt.ylabel(\"cost\", fontsize=14)\n",
    "plt.scatter(trial_data,a[0])\n",
    "plt.plot(trial_data, a[0], color='red')\n",
    "plt.plot(trial_data,2*trial_data+2,color='green')\n",
    "\n",
    "\n",
    "plt.show()"
   ]
  },
  {
   "cell_type": "code",
   "execution_count": null,
   "metadata": {},
   "outputs": [],
   "source": []
  }
 ],
 "metadata": {
  "kernelspec": {
   "display_name": "Python 3.9.13 ('paddle')",
   "language": "python",
   "name": "python3"
  },
  "language_info": {
   "codemirror_mode": {
    "name": "ipython",
    "version": 3
   },
   "file_extension": ".py",
   "mimetype": "text/x-python",
   "name": "python",
   "nbconvert_exporter": "python",
   "pygments_lexer": "ipython3",
   "version": "3.9.13"
  },
  "orig_nbformat": 4,
  "vscode": {
   "interpreter": {
    "hash": "38ad4a1e341727da3f425a88a1ec77b4d187139cc22970f6a8477b92bb5af4e8"
   }
  }
 },
 "nbformat": 4,
 "nbformat_minor": 2
}
